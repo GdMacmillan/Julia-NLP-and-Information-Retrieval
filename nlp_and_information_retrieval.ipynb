{
 "cells": [
  {
   "cell_type": "markdown",
   "metadata": {},
   "source": [
    "# NLP and Information Retrieval with Julia\n",
    "______________________________________________________________\n",
    "\n",
    "![pipes](images/text_classification_workflow.png)\n"
   ]
  },
  {
   "cell_type": "markdown",
   "metadata": {},
   "source": [
    "## Setup\n",
    "\n",
    "The data source is usually a document database such as MongoDB. I've started a client with a local mongo service and loaded the data from a json document that is supposed to mimic the real-life document one might recieve from a request body. I won't go into how to do this with this tutorial so lets assume the documents are already loaded in a local Mongo service.\n",
    "\n",
    "\n",
    "\n",
    "### Loading Data from Mongo\n",
    "\n",
    "For my pipeline, I want the data in a julia table. I want to pipe and process the data from my database to flat files (txt) located in a directory called data. To do this I will call a python script, aptly called load_data.py. I did this in python as I already had pymongo installed and the main goal is to perform common nlp tasks with julia. Number of files written will be 0 if files already exist locally."
   ]
  },
  {
   "cell_type": "code",
   "execution_count": 6,
   "metadata": {},
   "outputs": [
    {
     "name": "stdout",
     "output_type": "stream",
     "text": [
      "Number of files written:  0\n"
     ]
    },
    {
     "data": {
      "text/plain": [
       "Process(`\u001b[4mpython\u001b[24m \u001b[4msrc/load_data.py\u001b[24m`, ProcessExited(0))"
      ]
     },
     "execution_count": 6,
     "metadata": {},
     "output_type": "execute_result"
    }
   ],
   "source": [
    "run(`python src/load_data.py`)"
   ]
  },
  {
   "cell_type": "markdown",
   "metadata": {},
   "source": [
    "## Text Processing Pipeline\n",
    "\n",
    "The goal is to build a basic text processing pipeline involving tokenization, stripping stopwords and stemming. Ultimately what we want is a sparse representation of the data where 1 row of data is a document and each column is a unique term, such as a unigram, bigram or trigram. The values herein will be generated from a vectorization method which assigns each document term a value which is proportional to its frequency in the document, but inversely proportional to the number of documents in which it occurs.\n",
    "\n",
    "### Load data using JuliaDB"
   ]
  },
  {
   "cell_type": "code",
   "execution_count": 8,
   "metadata": {},
   "outputs": [
    {
     "name": "stderr",
     "output_type": "stream",
     "text": [
      "┌ Info: Recompiling stale cache file /Users/gmacmillan/.julia/compiled/v1.1/JuliaDB/4FA8g.ji for JuliaDB [a93385a2-3734-596a-9a66-3cfbb77141e6]\n",
      "└ @ Base loading.jl:1184\n"
     ]
    }
   ],
   "source": [
    "using JuliaDB"
   ]
  },
  {
   "cell_type": "code",
   "execution_count": 9,
   "metadata": {},
   "outputs": [
    {
     "data": {
      "text/plain": [
       "999-element Array{String,1}:\n",
       " \"data/5233240838f0d8062fddf624.txt\"\n",
       " \"data/5233249838f0d8062fddf6a0.txt\"\n",
       " \"data/5234544138f0d81989737272.txt\"\n",
       " \"data/523454a638f0d819897372fb.txt\"\n",
       " \"data/523454f338f0d8198973735f.txt\"\n",
       " \"data/5236a0c838f0d81989738879.txt\"\n",
       " \"data/5236aa6138f0d81989738886.txt\"\n",
       " \"data/5236be3538f0d819897388aa.txt\"\n",
       " \"data/5236d12238f0d819897388d2.txt\"\n",
       " \"data/5236d6ee38f0d819897388dd.txt\"\n",
       " \"data/5236e1ca38f0d819897388ee.txt\"\n",
       " \"data/5236f14538f0d8198973890d.txt\"\n",
       " \"data/5236f58b38f0d81989738917.txt\"\n",
       " ⋮                                  \n",
       " \"data/523dc3d238f0d8198973af64.txt\"\n",
       " \"data/523dc44138f0d8198973af66.txt\"\n",
       " \"data/523dc4d038f0d8198973af67.txt\"\n",
       " \"data/523dc51638f0d8198973af68.txt\"\n",
       " \"data/523dc56f38f0d8198973af69.txt\"\n",
       " \"data/523dc57138f0d8198973af6a.txt\"\n",
       " \"data/523dc67438f0d8198973af6c.txt\"\n",
       " \"data/523dc69e38f0d8198973af6d.txt\"\n",
       " \"data/523dc82738f0d8198973af6f.txt\"\n",
       " \"data/523dcab938f0d8198973af70.txt\"\n",
       " \"data/523dccc738f0d8198973af72.txt\"\n",
       " \"data/523dd65b38f0d8198973af84.txt\""
      ]
     },
     "execution_count": 9,
     "metadata": {},
     "output_type": "execute_result"
    }
   ],
   "source": [
    "fnames = glob(\"data/*.txt\");"
   ]
  },
  {
   "cell_type": "code",
   "execution_count": 10,
   "metadata": {},
   "outputs": [
    {
     "data": {
      "text/plain": [
       "42-element Array{String,1}:\n",
       " \"\"                                                                                                                              \n",
       " \"\"                                                                                                                              \n",
       " \"\"                                                                                                                              \n",
       " \"\"                                                                                                                              \n",
       " \"\"                                                                                                                              \n",
       " \"\"                                                                                                                              \n",
       " \"\"                                                                                                                              \n",
       " \"\"                                                                                                                              \n",
       " \"\"                                                                                                                              \n",
       " \"\"                                                                                                                              \n",
       " \"\"                                                                                                                              \n",
       " \"Hey, the man on the phone said. Are you still coming tonight?        \"                                                         \n",
       " \" \"                                                                                                                             \n",
       " ⋮                                                                                                                               \n",
       " \"Recommended B.L.T.; chilled charred broccoli; porgy; burger; wings; country fried duck and waffles; pork ribs; smores.        \"\n",
       " \"Prices \\$5 to \\$29.        \"                                                                                                   \n",
       " \"Open Nightly for dinner, Saturday and Sunday for brunch.        \"                                                              \n",
       " \"Reservations Accepted.        \"                                                                                                \n",
       " \"Wheelchair access Entrance is up a short flight of stairs from the sidewalk. Restrooms have handrails.        \"                \n",
       " \"\"                                                                                                                              \n",
       " \"\"                                                                                                                              \n",
       " \"\"                                                                                                                              \n",
       " \" \"                                                                                                                             \n",
       " \"\"                                                                                                                              \n",
       " \"\"                                                                                                                              \n",
       " \"\"                                                                                                                              "
      ]
     },
     "execution_count": 10,
     "metadata": {},
     "output_type": "execute_result"
    }
   ],
   "source": [
    "# example file\n",
    "readlines(fnames[1])"
   ]
  },
  {
   "cell_type": "markdown",
   "metadata": {},
   "source": [
    "### TODO: Figure out loading data into a table, modify python load_data to store labels in a file called out train_labels.csv or something"
   ]
  },
  {
   "cell_type": "code",
   "execution_count": null,
   "metadata": {},
   "outputs": [],
   "source": []
  }
 ],
 "metadata": {
  "kernelspec": {
   "display_name": "Julia 1.1.1",
   "language": "julia",
   "name": "julia-1.1"
  },
  "language_info": {
   "file_extension": ".jl",
   "mimetype": "application/julia",
   "name": "julia",
   "version": "1.1.1"
  }
 },
 "nbformat": 4,
 "nbformat_minor": 2
}
